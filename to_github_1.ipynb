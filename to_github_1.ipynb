{
 "cells": [
  {
   "cell_type": "code",
   "execution_count": null,
   "metadata": {},
   "outputs": [],
   "source": [
    "import warnings\n",
    "import pandas as pd\n",
    "import numpy as np \n",
    "import seaborn as sns\n",
    "import matplotlib.pyplot as plt\n",
    "import csv\n",
    "import scipy\n",
    "import statsmodels.formula.api as smf\n",
    "import statsmodels.api as sm\n",
    "from scipy.stats import zscore\n",
    "from tableone import TableOne"
   ]
  },
  {
   "cell_type": "code",
   "execution_count": null,
   "metadata": {},
   "outputs": [],
   "source": [
    "df = pd.read_csv('./path/to/case_control_file/csv')\n",
    "df"
   ]
  },
  {
   "cell_type": "code",
   "execution_count": null,
   "metadata": {},
   "outputs": [],
   "source": [
    "#filter out <18\n",
    "df = df[df[('Patient_Age')]>18]\n",
    "df"
   ]
  },
  {
   "cell_type": "code",
   "execution_count": null,
   "metadata": {},
   "outputs": [],
   "source": [
    "#remove outliers\n",
    "def removeExtremes(df, min_bilrubin):\n",
    "    df_test = df.copy()\n",
    "    q_low = df_test[min_bilrubin].quantile(0.001)\n",
    "    q_hi  = df_test[min_bilrubin].quantile(0.95)\n",
    "    df_test[min_bilrubin] = np.where((df_test[min_bilrubin] < q_hi) & (df_test[min_bilrubin] > q_low), df_test[min_bilrubin], np.nan)\n",
    "    return df_test   \n",
    "df = removeExtremes(df, 'min_bilrubin')\n",
    "df['min_bilrubin'].describe()\n",
    "###repeat for max_bilirubin"
   ]
  },
  {
   "cell_type": "code",
   "execution_count": null,
   "metadata": {},
   "outputs": [],
   "source": [
    "df['mean_bilirubin'] = (df['max_bilrubin'] + df['min_bilrubin']) / 2\n",
    "df.mean_bilirubin.describe()"
   ]
  },
  {
   "cell_type": "code",
   "execution_count": null,
   "metadata": {},
   "outputs": [],
   "source": [
    "###smoking\n",
    "formula = 'mean_bilirubin ~ smoke_hist + Sex + Patient_Age + SIRE_race + SIRE_eth'\n",
    "m1 = smf.glm(formula = formula , data= df).fit()\n",
    "m1.summary2()"
   ]
  },
  {
   "cell_type": "code",
   "execution_count": null,
   "metadata": {},
   "outputs": [],
   "source": [
    "#restrict to current smokers\n",
    "conditions = [\n",
    "    (df['SmokingStatus'] == 'Every Day'),\n",
    "    (df['SmokingStatus'] == 'Some Days'),\n",
    "    (df['SmokingStatus'] == 'Light Smoker'),\n",
    "    (df['SmokingStatus'] == 'Heavy Smoker'),\n",
    "    (df['SmokingStatus'] == 'Never'),\n",
    "    (df['SmokingStatus'] == 'Smoker, Current Status Unknown'),\n",
    "    (df['SmokingStatus'] == 'Former'),\n",
    "    (df['SmokingStatus'] == 'Passive Smoke Exposure - Never Smoker')\n",
    "]\n",
    "\n",
    "# Create a list of the values we want to assign for each condition\n",
    "values = ['1', '1', '1', '1', '0', '1', np.nan, '0']\n",
    "\n",
    "# Create a new column and use np.select to assign values to it using our lists as arguments\n",
    "df['current_smoker'] = np.select(conditions, values)\n",
    "\n",
    "# Display updated DataFrame\n",
    "df"
   ]
  },
  {
   "cell_type": "code",
   "execution_count": null,
   "metadata": {},
   "outputs": [],
   "source": [
    "###smoking\n",
    "formula = 'mean_bilirubin ~ current_smoker + Sex + Patient_Age + SIRE_race + SIRE_eth'\n",
    "m1 = smf.glm(formula = formula , data= df).fit()\n",
    "m1.summary2()"
   ]
  },
  {
   "cell_type": "code",
   "execution_count": null,
   "metadata": {},
   "outputs": [],
   "source": [
    "df['mean_bili_z'] = zscore(df['mean_bilirubin'])\n",
    "df.head()"
   ]
  },
  {
   "cell_type": "code",
   "execution_count": null,
   "metadata": {},
   "outputs": [],
   "source": [
    "#####hnc ####replace with LC for lung cancer analyses\n",
    "formula = 'mean_bilirubin ~ HNC + Sex + Patient_Age + SIRE_race + SIRE_eth + smoke_hist'\n",
    "m1 = smf.glm(formula = formula , data= df).fit()\n",
    "m1.summary2()"
   ]
  },
  {
   "cell_type": "code",
   "execution_count": null,
   "metadata": {},
   "outputs": [],
   "source": [
    "#regression models reverse direction\n",
    "formula = 'HNC ~ zscore(mean_bilirubin) + Sex + Patient_Age + SIRE_race + SIRE_eth + smoke_hist'\n",
    "m1 = smf.logit(formula = formula , data= df).fit()\n",
    "m1.summary2()"
   ]
  },
  {
   "cell_type": "code",
   "execution_count": null,
   "metadata": {},
   "outputs": [],
   "source": [
    "#regression models reverse direction\n",
    "formula = 'HNC ~ mean_bilirubin + Sex + Patient_Age + SIRE_race + SIRE_eth + smoke_hist + mean_bili_z:smoke_hist'\n",
    "m1 = smf.logit(formula = formula , data= df).fit()\n",
    "m1.summary2()"
   ]
  },
  {
   "cell_type": "code",
   "execution_count": null,
   "metadata": {},
   "outputs": [],
   "source": [
    "#####PGS######"
   ]
  },
  {
   "cell_type": "code",
   "execution_count": null,
   "metadata": {},
   "outputs": [],
   "source": [
    "#input the PGS master file\n",
    "pgs_master_file = pd.read_csv('./path/to/pgs/master/file/tsv',sep='\\t')\n",
    "pgs_master_file.head()"
   ]
  },
  {
   "cell_type": "code",
   "execution_count": null,
   "metadata": {},
   "outputs": [],
   "source": [
    "bili_pgs = pgs_master_file[['ID','PGS002160']]\n",
    "bili_pgs"
   ]
  },
  {
   "cell_type": "code",
   "execution_count": null,
   "metadata": {},
   "outputs": [],
   "source": [
    "pheno_file_df = pd.read_csv('./path/to/genotyped/patients/file/csv')\n",
    "pheno_file_df"
   ]
  },
  {
   "cell_type": "code",
   "execution_count": null,
   "metadata": {},
   "outputs": [],
   "source": [
    "cc_df = pd.read_csv('./path/to/case_control_file/csv')\n",
    "cc_df"
   ]
  },
  {
   "cell_type": "code",
   "execution_count": null,
   "metadata": {},
   "outputs": [],
   "source": [
    "merge_df = pheno_file_df.merge(cc_df,on='ID')\n",
    "merge_df"
   ]
  },
  {
   "cell_type": "code",
   "execution_count": null,
   "metadata": {},
   "outputs": [],
   "source": [
    "final_df = merge_df.merge(bili_pgs,on='ID')\n",
    "final_df"
   ]
  },
  {
   "cell_type": "code",
   "execution_count": null,
   "metadata": {},
   "outputs": [],
   "source": [
    "final_df['mean_bilirubin'] = (final_df['max_bilirubin'] + final_df['min_bilirubin']) / 2\n",
    "final_df.mean_bilirubin.describe()"
   ]
  },
  {
   "cell_type": "code",
   "execution_count": null,
   "metadata": {},
   "outputs": [],
   "source": [
    "###restrict to European American Ancestry\n",
    "ancestry = 'EUR'\n",
    "pc_df = pd.read_csv(('./path/to/principal/component/file/EUR').format(ancestry), sep ='\\t')\n",
    "pc_df.head()"
   ]
  },
  {
   "cell_type": "code",
   "execution_count": null,
   "metadata": {},
   "outputs": [],
   "source": [
    "eur_df = pc_df.merge(final_df,on='ID')\n",
    "eur_df"
   ]
  },
  {
   "cell_type": "code",
   "execution_count": null,
   "metadata": {},
   "outputs": [],
   "source": [
    "eur_df['pgs_2160_z'] =  (eur_df['PGS002160'] - eur_df['PGS002160'].mean()) / eur_df['PGS002160'].std()\n",
    "eur_df.head()"
   ]
  },
  {
   "cell_type": "code",
   "execution_count": null,
   "metadata": {},
   "outputs": [],
   "source": [
    "formula = 'mean_bilirubin ~ zscore(PGS002160) + Sex + Patient_Age + PC1 + PC2 + PC3 + PC4 + PC5'\n",
    "m1 = smf.glm(formula = formula , data= eur_df).fit()\n",
    "m1.summary2()"
   ]
  },
  {
   "cell_type": "code",
   "execution_count": null,
   "metadata": {},
   "outputs": [],
   "source": [
    "#HNC-bili pgs\n",
    "formula = 'HNC ~ zscore(PGS002160) + Sex + Patient_Age + PC1 + PC2 + PC3 + PC4 + PC5 + smoke_hist'\n",
    "m1 = smf.logit(formula = formula , data= eur_df).fit()\n",
    "m1.summary2()"
   ]
  },
  {
   "cell_type": "code",
   "execution_count": null,
   "metadata": {},
   "outputs": [],
   "source": [
    "#lung cancer - bili pgs adjusted for smoking\n",
    "formula = 'LC ~ zscore(PGS002160) + Sex + Patient_Age + PC1 + PC2 + PC3 + PC4 + PC5 + smoke_hist'\n",
    "m1 = smf.logit(formula = formula , data= eur_df).fit()\n",
    "m1.summary2()"
   ]
  },
  {
   "cell_type": "code",
   "execution_count": null,
   "metadata": {},
   "outputs": [],
   "source": [
    "#####propensity score matching######"
   ]
  },
  {
   "cell_type": "code",
   "execution_count": null,
   "metadata": {},
   "outputs": [],
   "source": [
    "data = pd.read_csv('./path/to/case_control_file/csv')\n",
    "data"
   ]
  },
  {
   "cell_type": "code",
   "execution_count": null,
   "metadata": {},
   "outputs": [],
   "source": [
    "#repeat with LC for lung cancer\n",
    "formula = 'mean_bilirubin ~ HNC + Patient_Age + Sex + SIRE_eth + SIRE_race + smoke_hist'\n",
    "m1 = smf.glm(formula = formula , data=data).fit()\n",
    "m1.summary2()"
   ]
  },
  {
   "cell_type": "code",
   "execution_count": null,
   "metadata": {},
   "outputs": [],
   "source": [
    "#propensity match towards HNC\n",
    "# Define the columns to match on\n",
    "matching_cols = ['Patient_Age', 'Sex', 'SIRE_eth', 'SIRE_race','smoke_hist']\n",
    "\n",
    "# Define the treatment column\n",
    "treatment_col = 'HNC'\n",
    "#treatment_col = 'LC'\n",
    "\n",
    "# One-hot encode the categorical columns\n",
    "categorical_cols = ['Sex', 'SIRE_eth','SIRE_race','smoke_hist']\n",
    "for col in categorical_cols:\n",
    "    one_hot = pd.get_dummies(data[col], prefix=col)\n",
    "    data = data.join(one_hot)"
   ]
  },
  {
   "cell_type": "code",
   "execution_count": null,
   "metadata": {},
   "outputs": [],
   "source": [
    "# Filter the data to include only matched pairs\n",
    "cases = data[data[treatment_col] == 1]\n",
    "controls = data[data[treatment_col] == 0]\n",
    "\n",
    "matched_controls = controls.groupby(matching_cols).apply(lambda x: x.sample(len(cases), replace=True)).reset_index(drop=True)\n",
    "matched_data = pd.concat([cases, matched_controls], axis=0)"
   ]
  },
  {
   "cell_type": "code",
   "execution_count": null,
   "metadata": {},
   "outputs": [],
   "source": [
    "X = pd.get_dummies(data[matching_cols], drop_first=True)\n",
    "\n",
    "# Fit the logistic regression model to estimate the propensity scores\n",
    "logit = sm.Logit(data[treatment_col], X)\n",
    "propensity_scores = logit.fit().predict(X)\n",
    "\n",
    "# Add the propensity scores to the original data\n",
    "data['propensity_score'] = propensity_scores"
   ]
  },
  {
   "cell_type": "code",
   "execution_count": null,
   "metadata": {},
   "outputs": [],
   "source": [
    "# Match cases and controls based on propensity scores\n",
    "matched_data = pd.DataFrame(columns=data.columns)\n",
    "for score in np.unique(propensity_scores):\n",
    "    cases = data[(data[treatment_col] == 1) & (data['propensity_score'] == score)]\n",
    "    controls = data[(data[treatment_col] == 0) & (data['propensity_score'] == score)]\n",
    "    if len(cases) > 0 and len(controls) > 0:\n",
    "        matched_controls = controls.sample(len(cases), replace=True)\n",
    "        matched_data = pd.concat([matched_data, cases, matched_controls], axis=0)"
   ]
  },
  {
   "cell_type": "code",
   "execution_count": null,
   "metadata": {},
   "outputs": [],
   "source": [
    "#repeat with LC for lung cancer\n",
    "formula = ' mean_bilirubin ~ HNC'\n",
    "m1 = smf.glm(formula = formula , data=matched_data).fit()\n",
    "m1.summary2()"
   ]
  }
 ],
 "metadata": {
  "kernelspec": {
   "display_name": "Python 3",
   "language": "python",
   "name": "python3"
  },
  "language_info": {
   "codemirror_mode": {
    "name": "ipython",
    "version": 3
   },
   "file_extension": ".py",
   "mimetype": "text/x-python",
   "name": "python",
   "nbconvert_exporter": "python",
   "pygments_lexer": "ipython3",
   "version": "3.7.7"
  }
 },
 "nbformat": 4,
 "nbformat_minor": 2
}
