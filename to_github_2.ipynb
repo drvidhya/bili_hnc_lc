{
 "cells": [
  {
   "cell_type": "code",
   "execution_count": null,
   "metadata": {},
   "outputs": [],
   "source": [
    "import pyodbc\n",
    "import os\n",
    "import warnings\n",
    "import pandas as pd\n",
    "import numpy as np \n",
    "import seaborn as sns\n",
    "import matplotlib.pyplot as plt\n",
    "import csv\n",
    "import scipy\n",
    "import statsmodels.formula.api as smf\n",
    "import statsmodels.api as sm\n",
    "from scipy.stats import zscore\n"
   ]
  },
  {
   "cell_type": "code",
   "execution_count": null,
   "metadata": {},
   "outputs": [],
   "source": [
    "df = pd.read_csv('./path/to/noisy/case_control_file/csv')\n",
    "df"
   ]
  },
  {
   "cell_type": "code",
   "execution_count": null,
   "metadata": {},
   "outputs": [],
   "source": [
    "race_map = pd.read_csv('./race_sire_map.csv',header=None)\n",
    "race_map.columns = ['ddr_race', 'SIRE_race']\n",
    "race_map = race_map.dropna()\n",
    "race_map"
   ]
  },
  {
   "cell_type": "code",
   "execution_count": null,
   "metadata": {},
   "outputs": [],
   "source": [
    "ethnicity_map = pd.read_csv('./ethnicity_sire_map.csv',header=None)\n",
    "ethnicity_map.columns = ['ddr_eth', 'SIRE_eth']\n",
    "ethnicity_map"
   ]
  },
  {
   "cell_type": "code",
   "execution_count": null,
   "metadata": {},
   "outputs": [],
   "source": [
    "race_df = pd.merge(df, race_map, how='left', left_on='FirstRace', right_on='ddr_race')\n",
    "race_df"
   ]
  },
  {
   "cell_type": "code",
   "execution_count": null,
   "metadata": {},
   "outputs": [],
   "source": [
    "df = pd.merge(race_df, ethnicity_map, how='left', left_on='Ethnicity', right_on='ddr_eth')\n",
    "df"
   ]
  },
  {
   "cell_type": "code",
   "execution_count": null,
   "metadata": {},
   "outputs": [],
   "source": [
    "df['max_bilirubin'] = df['max_bilirubin'].replace(9999999.0, pd.NA)\n",
    "df['min_bilirubin'] = df['min_bilirubin'].replace(9999999.0, pd.NA)"
   ]
  },
  {
   "cell_type": "code",
   "execution_count": null,
   "metadata": {},
   "outputs": [],
   "source": [
    "#binarize smoking and drop the never assessed or unknown\n",
    "df = df[~(df['SmokingStatus'] == 'Never Assessed')]\n",
    "df = df[~(df['SmokingStatus'] == 'Unknown')]\n",
    "df.SmokingStatus.value_counts()"
   ]
  },
  {
   "cell_type": "code",
   "execution_count": null,
   "metadata": {},
   "outputs": [],
   "source": [
    "conditions = [\n",
    "    (df['SmokingStatus'] == 'Former'),\n",
    "    (df['SmokingStatus'] == 'Every Day'),\n",
    "    (df['SmokingStatus'] == 'Some Days'),\n",
    "    (df['SmokingStatus'] == 'Light Smoker'),\n",
    "    (df['SmokingStatus'] == 'Heavy Smoker'),\n",
    "    (df['SmokingStatus'] == 'Smoker, Current Status Unknown')\n",
    "    ]\n",
    "\n",
    "# create a list of the values we want to assign for each condition\n",
    "values = ['1','1','1','1','1','1']\n",
    "\n",
    "# create a new column and use np.select to assign values to it using our lists as arguments\n",
    "df['smoke_hist'] = np.select(conditions, values)\n",
    "\n",
    "# display updated DataFrame\n",
    "df.head()"
   ]
  },
  {
   "cell_type": "code",
   "execution_count": null,
   "metadata": {},
   "outputs": [],
   "source": [
    "valid_sex = ['Male', 'Female']\n",
    "df = df[df['Sex'].isin(valid_sex)]\n",
    "df.shape"
   ]
  },
  {
   "cell_type": "code",
   "execution_count": null,
   "metadata": {},
   "outputs": [],
   "source": [
    "df.to_csv('./path/to/case_control_file/csv)"
   ]
  }
 ],
 "metadata": {
  "kernelspec": {
   "display_name": "Python 3",
   "language": "python",
   "name": "python3"
  },
  "language_info": {
   "codemirror_mode": {
    "name": "ipython",
    "version": 3
   },
   "file_extension": ".py",
   "mimetype": "text/x-python",
   "name": "python",
   "nbconvert_exporter": "python",
   "pygments_lexer": "ipython3",
   "version": "3.7.7"
  }
 },
 "nbformat": 4,
 "nbformat_minor": 2
}
